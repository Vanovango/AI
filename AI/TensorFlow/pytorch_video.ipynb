{
 "cells": [
  {
   "cell_type": "code",
   "execution_count": 2,
   "id": "18843f91-08bd-47f3-aaeb-d745028c9063",
   "metadata": {},
   "outputs": [],
   "source": [
    "import torch\n",
    "import torchvision as tv\n",
    "import torch.nn as nn\n",
    "\n",
    "import os\n",
    "import numpy\n",
    "import matplotlib.pyplot as plt\n",
    "import cv2"
   ]
  },
  {
   "cell_type": "markdown",
   "id": "7127a6c1-4ab9-417a-92cf-ce2cc94ff710",
   "metadata": {},
   "source": [
    "Подготовка датасета и его трансформация"
   ]
  },
  {
   "cell_type": "code",
   "execution_count": 3,
   "id": "7cea2800-d3ba-4a88-8eec-cdb878921a6d",
   "metadata": {},
   "outputs": [],
   "source": [
    "trans = tv.transforms.Compose([\n",
    "    tv.transforms.ToTensor()\n",
    "])"
   ]
  },
  {
   "cell_type": "code",
   "execution_count": 6,
   "id": "09972707-0a72-4f9e-94c9-29033733028e",
   "metadata": {},
   "outputs": [],
   "source": [
    "# Подготовка датасета torchvision MNIST\n",
    "\n",
    "ds_mnist = tv.datasets.MNIST('./datasets', download=True, transform=trans)\n"
   ]
  },
  {
   "cell_type": "code",
   "execution_count": 10,
   "id": "c187f0ed-f974-45c4-afd3-82644f9a3c1a",
   "metadata": {},
   "outputs": [
    {
     "data": {
      "text/plain": [
       "<matplotlib.image.AxesImage at 0x1c08d266850>"
      ]
     },
     "execution_count": 10,
     "metadata": {},
     "output_type": "execute_result"
    },
    {
     "data": {
      "image/png": "[encoded data removed]",
      "text/plain": [
       "<Figure size 640x480 with 1 Axes>"
      ]
     },
     "metadata": {},
     "output_type": "display_data"
    }
   ],
   "source": [
    "ds_mnist[0][0].numpy()[0].shape\n",
    "plt.imshow(ds_mnist[15][0].numpy()[0])"
   ]
  },
  {
   "cell_type": "markdown",
   "id": "c7b872b6-22ba-47d6-a1bc-36607912b371",
   "metadata": {},
   "source": [
    "Дата лоадер (подкачка данных)"
   ]
  },
  {
   "cell_type": "code",
   "execution_count": 12,
   "id": "a548c9ab-44a4-4175-ae52-831952d7b08d",
   "metadata": {},
   "outputs": [],
   "source": [
    "batch_size = 16\n",
    "\n",
    "dataloader = torch.utils.data.DataLoader(ds_mnist, batch_size=batch_size, shuffle=True, num_workers=1, drop_last=True)"
   ]
  },
  {
   "cell_type": "code",
   "execution_count": 15,
   "id": "e25634e5-bfd0-4e3b-b047-85285adef5f1",
   "metadata": {},
   "outputs": [
    {
     "name": "stdout",
     "output_type": "stream",
     "text": [
      "torch.Size([16, 1, 28, 28])\n",
      "torch.Size([16])\n"
     ]
    }
   ],
   "source": [
    "for img, lable in dataloader:\n",
    "    print(img.shape)\n",
    "    print(lable.shape)\n",
    "    break"
   ]
  },
  {
   "cell_type": "code",
   "execution_count": null,
   "id": "00e54a68-94b8-4b84-8c26-ab3959dfbb33",
   "metadata": {},
   "outputs": [],
   "source": []
  }
 ],
 "metadata": {
  "kernelspec": {
   "display_name": "Python 3 (ipykernel)",
   "language": "python",
   "name": "python3"
  },
  "language_info": {
   "codemirror_mode": {
    "name": "ipython",
    "version": 3
   },
   "file_extension": ".py",
   "mimetype": "text/x-python",
   "name": "python",
   "nbconvert_exporter": "python",
   "pygments_lexer": "ipython3",
   "version": "3.9.12"
  }
 },
 "nbformat": 4,
 "nbformat_minor": 5
}
